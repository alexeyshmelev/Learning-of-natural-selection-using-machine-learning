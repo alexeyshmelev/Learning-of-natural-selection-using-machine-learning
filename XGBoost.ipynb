{
 "cells": [
  {
   "cell_type": "code",
   "execution_count": 7,
   "id": "e51d30d6",
   "metadata": {},
   "outputs": [],
   "source": [
    "import numpy as np\n",
    "from xgboost import XGBClassifier\n",
    "import xgboost as xgb\n",
    "from sklearn.metrics import accuracy_score"
   ]
  },
  {
   "cell_type": "code",
   "execution_count": 2,
   "id": "69077fa6",
   "metadata": {},
   "outputs": [],
   "source": [
    "inputs_train = np.load(r\"C:\\HSE\\EPISTASIS\\nn\\all_inputs_train.npy\")\n",
    "inputs_test = np.load(r\"C:\\HSE\\EPISTASIS\\nn\\all_inputs_test.npy\")\n",
    "\n",
    "targets_train = np.load(r\"C:\\HSE\\EPISTASIS\\nn\\all_targets_train.npy\")\n",
    "targets_test = np.load(r\"C:\\HSE\\EPISTASIS\\nn\\all_targets_test.npy\")"
   ]
  },
  {
   "cell_type": "code",
   "execution_count": 40,
   "id": "3e44c11e",
   "metadata": {},
   "outputs": [],
   "source": [
    "testparams = {\n",
    "    \"objective\":\"binary:logistic\",\n",
    "    \"eval_metric\":\"error\",\n",
    "    \"eta\":\"0.1\",\n",
    "    \"max_depth\":6\n",
    "}\n",
    "num_round = 60"
   ]
  },
  {
   "cell_type": "code",
   "execution_count": 41,
   "id": "92d2a0b1",
   "metadata": {},
   "outputs": [
    {
     "name": "stderr",
     "output_type": "stream",
     "text": [
      "C:\\Users\\Alex\\anaconda3\\lib\\site-packages\\xgboost\\core.py:525: FutureWarning: Pass `evals` as keyword args.  Passing these as positional arguments will be considered as error in future releases.\n",
      "  warnings.warn(\n"
     ]
    },
    {
     "name": "stdout",
     "output_type": "stream",
     "text": [
      "[0]\ttrain-error:0.09919\ttest-error:0.10051\n",
      "[1]\ttrain-error:0.09932\ttest-error:0.10001\n",
      "[2]\ttrain-error:0.09939\ttest-error:0.09989\n",
      "[3]\ttrain-error:0.09940\ttest-error:0.09983\n",
      "[4]\ttrain-error:0.09938\ttest-error:0.09988\n",
      "[5]\ttrain-error:0.09937\ttest-error:0.09980\n",
      "[6]\ttrain-error:0.09939\ttest-error:0.09987\n",
      "[7]\ttrain-error:0.09939\ttest-error:0.09985\n",
      "[8]\ttrain-error:0.09938\ttest-error:0.09982\n",
      "[9]\ttrain-error:0.09936\ttest-error:0.09988\n",
      "[10]\ttrain-error:0.09934\ttest-error:0.09986\n",
      "[11]\ttrain-error:0.09930\ttest-error:0.09986\n",
      "[12]\ttrain-error:0.09929\ttest-error:0.09987\n",
      "[13]\ttrain-error:0.09929\ttest-error:0.09986\n",
      "[14]\ttrain-error:0.09926\ttest-error:0.09980\n",
      "[15]\ttrain-error:0.09926\ttest-error:0.09979\n",
      "[16]\ttrain-error:0.09922\ttest-error:0.09976\n",
      "[17]\ttrain-error:0.09923\ttest-error:0.09979\n",
      "[18]\ttrain-error:0.09922\ttest-error:0.09978\n",
      "[19]\ttrain-error:0.09920\ttest-error:0.09976\n",
      "[20]\ttrain-error:0.09919\ttest-error:0.09980\n",
      "[21]\ttrain-error:0.09918\ttest-error:0.09977\n",
      "[22]\ttrain-error:0.09917\ttest-error:0.09978\n",
      "[23]\ttrain-error:0.09916\ttest-error:0.09979\n",
      "[24]\ttrain-error:0.09916\ttest-error:0.09980\n",
      "[25]\ttrain-error:0.09914\ttest-error:0.09980\n",
      "[26]\ttrain-error:0.09913\ttest-error:0.09981\n",
      "[27]\ttrain-error:0.09912\ttest-error:0.09982\n",
      "[28]\ttrain-error:0.09909\ttest-error:0.09985\n",
      "[29]\ttrain-error:0.09908\ttest-error:0.09983\n",
      "[30]\ttrain-error:0.09908\ttest-error:0.09981\n",
      "[31]\ttrain-error:0.09908\ttest-error:0.09983\n",
      "[32]\ttrain-error:0.09904\ttest-error:0.09982\n",
      "[33]\ttrain-error:0.09903\ttest-error:0.09982\n",
      "[34]\ttrain-error:0.09901\ttest-error:0.09981\n",
      "[35]\ttrain-error:0.09900\ttest-error:0.09983\n",
      "[36]\ttrain-error:0.09899\ttest-error:0.09981\n",
      "[37]\ttrain-error:0.09897\ttest-error:0.09980\n",
      "[38]\ttrain-error:0.09897\ttest-error:0.09979\n",
      "[39]\ttrain-error:0.09893\ttest-error:0.09977\n",
      "[40]\ttrain-error:0.09892\ttest-error:0.09977\n",
      "[41]\ttrain-error:0.09891\ttest-error:0.09978\n",
      "[42]\ttrain-error:0.09889\ttest-error:0.09980\n",
      "[43]\ttrain-error:0.09888\ttest-error:0.09982\n",
      "[44]\ttrain-error:0.09886\ttest-error:0.09986\n",
      "[45]\ttrain-error:0.09885\ttest-error:0.09985\n",
      "[46]\ttrain-error:0.09883\ttest-error:0.09983\n",
      "[47]\ttrain-error:0.09881\ttest-error:0.09985\n",
      "[48]\ttrain-error:0.09880\ttest-error:0.09986\n",
      "[49]\ttrain-error:0.09878\ttest-error:0.09985\n",
      "[50]\ttrain-error:0.09876\ttest-error:0.09983\n",
      "[51]\ttrain-error:0.09874\ttest-error:0.09980\n",
      "[52]\ttrain-error:0.09873\ttest-error:0.09979\n",
      "[53]\ttrain-error:0.09870\ttest-error:0.09981\n",
      "[54]\ttrain-error:0.09869\ttest-error:0.09980\n",
      "[55]\ttrain-error:0.09865\ttest-error:0.09981\n",
      "[56]\ttrain-error:0.09864\ttest-error:0.09982\n",
      "[57]\ttrain-error:0.09861\ttest-error:0.09982\n",
      "[58]\ttrain-error:0.09858\ttest-error:0.09980\n",
      "[59]\ttrain-error:0.09856\ttest-error:0.09983\n"
     ]
    }
   ],
   "source": [
    "xgb_train = xgb.DMatrix(inputs_train[:, :, 1], targets_train.squeeze())\n",
    "xgb_test  = xgb.DMatrix(inputs_test[:, :, 1], targets_test.squeeze())\n",
    " \n",
    "watchlist = [(xgb_train, 'train'), (xgb_test, 'test')]\n",
    "model = xgb.train(testparams, xgb_train, num_round, watchlist)"
   ]
  },
  {
   "cell_type": "code",
   "execution_count": 42,
   "id": "c691ff35",
   "metadata": {},
   "outputs": [],
   "source": [
    "predictions = model.predict(xgb_test)"
   ]
  },
  {
   "cell_type": "code",
   "execution_count": 43,
   "id": "56ef3c1b",
   "metadata": {},
   "outputs": [
    {
     "name": "stdout",
     "output_type": "stream",
     "text": [
      "[0.00193586 0.00224467 0.00250573 0.00300823 0.00754828 0.00493082\n",
      " 0.01856772 0.10424957 0.28275648 0.53000885]\n",
      "[[0. 0. 0. 0. 0. 0. 0. 0. 0. 1.]]\n",
      "(9693, 10)\n"
     ]
    }
   ],
   "source": [
    "print(predictions[0])\n",
    "print(targets_test[0].astype(float))\n",
    "print(predictions.shape)"
   ]
  },
  {
   "cell_type": "code",
   "execution_count": 44,
   "id": "e566ab69",
   "metadata": {},
   "outputs": [
    {
     "name": "stdout",
     "output_type": "stream",
     "text": [
      "Accuracy: 20.72%\n"
     ]
    }
   ],
   "source": [
    "accuracy = accuracy_score(np.argmax(targets_test, axis=-1).squeeze(), np.argmax(predictions, axis=-1))\n",
    "print(\"Accuracy: %.2f%%\" % (accuracy * 100.0))"
   ]
  },
  {
   "cell_type": "code",
   "execution_count": 45,
   "id": "59b3027a",
   "metadata": {},
   "outputs": [
    {
     "name": "stdout",
     "output_type": "stream",
     "text": [
      "0.469101413391107\n"
     ]
    }
   ],
   "source": [
    "counter = 0\n",
    "for i in range(len(predictions)):\n",
    "    if abs(np.argmax(predictions[i], axis=-1) - np.argmax(targets_test[i], axis=-1)) <= 1:\n",
    "        counter += 1\n",
    "        \n",
    "print(counter/len(predictions))"
   ]
  },
  {
   "cell_type": "code",
   "execution_count": 4,
   "id": "323aca33",
   "metadata": {
    "scrolled": true
   },
   "outputs": [
    {
     "ename": "KeyboardInterrupt",
     "evalue": "",
     "output_type": "error",
     "traceback": [
      "\u001b[1;31m---------------------------------------------------------------------------\u001b[0m",
      "\u001b[1;31mKeyboardInterrupt\u001b[0m                         Traceback (most recent call last)",
      "\u001b[1;32m<ipython-input-4-7d60f1bd24a5>\u001b[0m in \u001b[0;36m<module>\u001b[1;34m\u001b[0m\n\u001b[0;32m      1\u001b[0m \u001b[0mmodel\u001b[0m \u001b[1;33m=\u001b[0m \u001b[0mXGBClassifier\u001b[0m\u001b[1;33m(\u001b[0m\u001b[1;33m)\u001b[0m\u001b[1;33m\u001b[0m\u001b[1;33m\u001b[0m\u001b[0m\n\u001b[1;32m----> 2\u001b[1;33m \u001b[0mmodel\u001b[0m\u001b[1;33m.\u001b[0m\u001b[0mfit\u001b[0m\u001b[1;33m(\u001b[0m\u001b[0minputs_train\u001b[0m\u001b[1;33m[\u001b[0m\u001b[1;33m:\u001b[0m\u001b[1;33m,\u001b[0m \u001b[1;33m:\u001b[0m\u001b[1;33m,\u001b[0m \u001b[1;36m0\u001b[0m\u001b[1;33m]\u001b[0m\u001b[1;33m,\u001b[0m \u001b[0mtargets_train\u001b[0m\u001b[1;33m.\u001b[0m\u001b[0msqueeze\u001b[0m\u001b[1;33m(\u001b[0m\u001b[1;33m)\u001b[0m\u001b[1;33m)\u001b[0m\u001b[1;33m\u001b[0m\u001b[1;33m\u001b[0m\u001b[0m\n\u001b[0m",
      "\u001b[1;32m~\\anaconda3\\lib\\site-packages\\xgboost\\core.py\u001b[0m in \u001b[0;36minner_f\u001b[1;34m(*args, **kwargs)\u001b[0m\n\u001b[0;32m    530\u001b[0m         \u001b[1;32mfor\u001b[0m \u001b[0mk\u001b[0m\u001b[1;33m,\u001b[0m \u001b[0marg\u001b[0m \u001b[1;32min\u001b[0m \u001b[0mzip\u001b[0m\u001b[1;33m(\u001b[0m\u001b[0msig\u001b[0m\u001b[1;33m.\u001b[0m\u001b[0mparameters\u001b[0m\u001b[1;33m,\u001b[0m \u001b[0margs\u001b[0m\u001b[1;33m)\u001b[0m\u001b[1;33m:\u001b[0m\u001b[1;33m\u001b[0m\u001b[1;33m\u001b[0m\u001b[0m\n\u001b[0;32m    531\u001b[0m             \u001b[0mkwargs\u001b[0m\u001b[1;33m[\u001b[0m\u001b[0mk\u001b[0m\u001b[1;33m]\u001b[0m \u001b[1;33m=\u001b[0m \u001b[0marg\u001b[0m\u001b[1;33m\u001b[0m\u001b[1;33m\u001b[0m\u001b[0m\n\u001b[1;32m--> 532\u001b[1;33m         \u001b[1;32mreturn\u001b[0m \u001b[0mf\u001b[0m\u001b[1;33m(\u001b[0m\u001b[1;33m**\u001b[0m\u001b[0mkwargs\u001b[0m\u001b[1;33m)\u001b[0m\u001b[1;33m\u001b[0m\u001b[1;33m\u001b[0m\u001b[0m\n\u001b[0m\u001b[0;32m    533\u001b[0m \u001b[1;33m\u001b[0m\u001b[0m\n\u001b[0;32m    534\u001b[0m     \u001b[1;32mreturn\u001b[0m \u001b[0minner_f\u001b[0m\u001b[1;33m\u001b[0m\u001b[1;33m\u001b[0m\u001b[0m\n",
      "\u001b[1;32m~\\anaconda3\\lib\\site-packages\\xgboost\\sklearn.py\u001b[0m in \u001b[0;36mfit\u001b[1;34m(self, X, y, sample_weight, base_margin, eval_set, eval_metric, early_stopping_rounds, verbose, xgb_model, sample_weight_eval_set, base_margin_eval_set, feature_weights, callbacks)\u001b[0m\n\u001b[0;32m   1398\u001b[0m         )\n\u001b[0;32m   1399\u001b[0m \u001b[1;33m\u001b[0m\u001b[0m\n\u001b[1;32m-> 1400\u001b[1;33m         self._Booster = train(\n\u001b[0m\u001b[0;32m   1401\u001b[0m             \u001b[0mparams\u001b[0m\u001b[1;33m,\u001b[0m\u001b[1;33m\u001b[0m\u001b[1;33m\u001b[0m\u001b[0m\n\u001b[0;32m   1402\u001b[0m             \u001b[0mtrain_dmatrix\u001b[0m\u001b[1;33m,\u001b[0m\u001b[1;33m\u001b[0m\u001b[1;33m\u001b[0m\u001b[0m\n",
      "\u001b[1;32m~\\anaconda3\\lib\\site-packages\\xgboost\\core.py\u001b[0m in \u001b[0;36minner_f\u001b[1;34m(*args, **kwargs)\u001b[0m\n\u001b[0;32m    530\u001b[0m         \u001b[1;32mfor\u001b[0m \u001b[0mk\u001b[0m\u001b[1;33m,\u001b[0m \u001b[0marg\u001b[0m \u001b[1;32min\u001b[0m \u001b[0mzip\u001b[0m\u001b[1;33m(\u001b[0m\u001b[0msig\u001b[0m\u001b[1;33m.\u001b[0m\u001b[0mparameters\u001b[0m\u001b[1;33m,\u001b[0m \u001b[0margs\u001b[0m\u001b[1;33m)\u001b[0m\u001b[1;33m:\u001b[0m\u001b[1;33m\u001b[0m\u001b[1;33m\u001b[0m\u001b[0m\n\u001b[0;32m    531\u001b[0m             \u001b[0mkwargs\u001b[0m\u001b[1;33m[\u001b[0m\u001b[0mk\u001b[0m\u001b[1;33m]\u001b[0m \u001b[1;33m=\u001b[0m \u001b[0marg\u001b[0m\u001b[1;33m\u001b[0m\u001b[1;33m\u001b[0m\u001b[0m\n\u001b[1;32m--> 532\u001b[1;33m         \u001b[1;32mreturn\u001b[0m \u001b[0mf\u001b[0m\u001b[1;33m(\u001b[0m\u001b[1;33m**\u001b[0m\u001b[0mkwargs\u001b[0m\u001b[1;33m)\u001b[0m\u001b[1;33m\u001b[0m\u001b[1;33m\u001b[0m\u001b[0m\n\u001b[0m\u001b[0;32m    533\u001b[0m \u001b[1;33m\u001b[0m\u001b[0m\n\u001b[0;32m    534\u001b[0m     \u001b[1;32mreturn\u001b[0m \u001b[0minner_f\u001b[0m\u001b[1;33m\u001b[0m\u001b[1;33m\u001b[0m\u001b[0m\n",
      "\u001b[1;32m~\\anaconda3\\lib\\site-packages\\xgboost\\training.py\u001b[0m in \u001b[0;36mtrain\u001b[1;34m(params, dtrain, num_boost_round, evals, obj, feval, maximize, early_stopping_rounds, evals_result, verbose_eval, xgb_model, callbacks, custom_metric)\u001b[0m\n\u001b[0;32m    179\u001b[0m         \u001b[1;32mif\u001b[0m \u001b[0mcb_container\u001b[0m\u001b[1;33m.\u001b[0m\u001b[0mbefore_iteration\u001b[0m\u001b[1;33m(\u001b[0m\u001b[0mbst\u001b[0m\u001b[1;33m,\u001b[0m \u001b[0mi\u001b[0m\u001b[1;33m,\u001b[0m \u001b[0mdtrain\u001b[0m\u001b[1;33m,\u001b[0m \u001b[0mevals\u001b[0m\u001b[1;33m)\u001b[0m\u001b[1;33m:\u001b[0m\u001b[1;33m\u001b[0m\u001b[1;33m\u001b[0m\u001b[0m\n\u001b[0;32m    180\u001b[0m             \u001b[1;32mbreak\u001b[0m\u001b[1;33m\u001b[0m\u001b[1;33m\u001b[0m\u001b[0m\n\u001b[1;32m--> 181\u001b[1;33m         \u001b[0mbst\u001b[0m\u001b[1;33m.\u001b[0m\u001b[0mupdate\u001b[0m\u001b[1;33m(\u001b[0m\u001b[0mdtrain\u001b[0m\u001b[1;33m,\u001b[0m \u001b[0mi\u001b[0m\u001b[1;33m,\u001b[0m \u001b[0mobj\u001b[0m\u001b[1;33m)\u001b[0m\u001b[1;33m\u001b[0m\u001b[1;33m\u001b[0m\u001b[0m\n\u001b[0m\u001b[0;32m    182\u001b[0m         \u001b[1;32mif\u001b[0m \u001b[0mcb_container\u001b[0m\u001b[1;33m.\u001b[0m\u001b[0mafter_iteration\u001b[0m\u001b[1;33m(\u001b[0m\u001b[0mbst\u001b[0m\u001b[1;33m,\u001b[0m \u001b[0mi\u001b[0m\u001b[1;33m,\u001b[0m \u001b[0mdtrain\u001b[0m\u001b[1;33m,\u001b[0m \u001b[0mevals\u001b[0m\u001b[1;33m)\u001b[0m\u001b[1;33m:\u001b[0m\u001b[1;33m\u001b[0m\u001b[1;33m\u001b[0m\u001b[0m\n\u001b[0;32m    183\u001b[0m             \u001b[1;32mbreak\u001b[0m\u001b[1;33m\u001b[0m\u001b[1;33m\u001b[0m\u001b[0m\n",
      "\u001b[1;32m~\\anaconda3\\lib\\site-packages\\xgboost\\core.py\u001b[0m in \u001b[0;36mupdate\u001b[1;34m(self, dtrain, iteration, fobj)\u001b[0m\n\u001b[0;32m   1731\u001b[0m \u001b[1;33m\u001b[0m\u001b[0m\n\u001b[0;32m   1732\u001b[0m         \u001b[1;32mif\u001b[0m \u001b[0mfobj\u001b[0m \u001b[1;32mis\u001b[0m \u001b[1;32mNone\u001b[0m\u001b[1;33m:\u001b[0m\u001b[1;33m\u001b[0m\u001b[1;33m\u001b[0m\u001b[0m\n\u001b[1;32m-> 1733\u001b[1;33m             _check_call(_LIB.XGBoosterUpdateOneIter(self.handle,\n\u001b[0m\u001b[0;32m   1734\u001b[0m                                                     \u001b[0mctypes\u001b[0m\u001b[1;33m.\u001b[0m\u001b[0mc_int\u001b[0m\u001b[1;33m(\u001b[0m\u001b[0miteration\u001b[0m\u001b[1;33m)\u001b[0m\u001b[1;33m,\u001b[0m\u001b[1;33m\u001b[0m\u001b[1;33m\u001b[0m\u001b[0m\n\u001b[0;32m   1735\u001b[0m                                                     dtrain.handle))\n",
      "\u001b[1;31mKeyboardInterrupt\u001b[0m: "
     ]
    }
   ],
   "source": [
    "model = XGBClassifier()\n",
    "model.fit(inputs_train[:, :, 0], targets_train.squeeze())"
   ]
  },
  {
   "cell_type": "code",
   "execution_count": null,
   "id": "4f6fc3ed",
   "metadata": {},
   "outputs": [],
   "source": []
  }
 ],
 "metadata": {
  "kernelspec": {
   "display_name": "Python 3",
   "language": "python",
   "name": "python3"
  },
  "language_info": {
   "codemirror_mode": {
    "name": "ipython",
    "version": 3
   },
   "file_extension": ".py",
   "mimetype": "text/x-python",
   "name": "python",
   "nbconvert_exporter": "python",
   "pygments_lexer": "ipython3",
   "version": "3.8.8"
  }
 },
 "nbformat": 4,
 "nbformat_minor": 5
}
